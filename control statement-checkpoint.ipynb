{
 "cells": [
  {
   "cell_type": "code",
   "execution_count": 42,
   "id": "a5ca3cec",
   "metadata": {},
   "outputs": [
    {
     "name": "stdout",
     "output_type": "stream",
     "text": [
      "Welcome If Coding\n",
      "enter your id:101\n",
      "enter your name:rahul\n",
      "enter school name:gurukul\n",
      "you can enter in competion\n"
     ]
    }
   ],
   "source": [
    "print(\"Welcome If Coding\")\n",
    "id =int(input(\"enter your id:\"))\n",
    "name=input(\"enter your name:\")\n",
    "school=input(\"enter school name:\")\n",
    "if id==101 or name=='rahul' or school=='gurukul':\n",
    "    print(\"you can enter in competion\")\n"
   ]
  },
  {
   "cell_type": "code",
   "execution_count": 41,
   "id": "38c515a2",
   "metadata": {},
   "outputs": [
    {
     "name": "stdout",
     "output_type": "stream",
     "text": [
      "Welcome if-else  coding\n",
      "enter file name:emp.pdf\n",
      "file is pdf:\n"
     ]
    }
   ],
   "source": [
    "print(\"Welcome if-else  coding\")\n",
    "filename=input(\"enter file name:\")\n",
    "if filename.endswith('.pdf'):\n",
    "    print(\"file is pdf:\")\n",
    "else:\n",
    "    print(\"file is invalid\")"
   ]
  },
  {
   "cell_type": "code",
   "execution_count": 40,
   "id": "9d076c11",
   "metadata": {},
   "outputs": [
    {
     "name": "stdout",
     "output_type": "stream",
     "text": [
      "Welcome If-Else Ladder Coding\n",
      "enter your filename:emp.text\n",
      "file is text:\n"
     ]
    }
   ],
   "source": [
    "print(\"Welcome If-Else Ladder Coding\")\n",
    "filename=input(\"enter your filename:\")\n",
    "if filename.endswith('.pdf'):\n",
    "    print(\"file is pdf:\")\n",
    "elif filename.endswith('.xlsx'):\n",
    "    print(\"file  is xlsx\")\n",
    "elif filename.endswith('.text'):\n",
    "    print(\"file is text:\")\n",
    "elif filename.endswith('.uv'):\n",
    "    print(\"file is uv\")\n",
    "else:\n",
    "    print(\"file is invalid type\")\n",
    "\n"
   ]
  },
  {
   "cell_type": "code",
   "execution_count": 36,
   "id": "dd9188dc",
   "metadata": {},
   "outputs": [
    {
     "name": "stdout",
     "output_type": "stream",
     "text": [
      "Welcome Nested If-Else Coding \n",
      "Enter contry name:india\n",
      "Enter state name:mp\n",
      "Enter district name:badwani\n",
      "Enter vikaskhand name:anjad\n",
      "Enter village name:talun\n",
      "you choose right option:\n"
     ]
    }
   ],
   "source": [
    "print(\"Welcome Nested If-Else Coding \")\n",
    "contry=input(\"Enter contry name:\")\n",
    "state=input(\"Enter state name:\")\n",
    "district=input(\"Enter district name:\")\n",
    "vikaskhand=input(\"Enter vikaskhand name:\")\n",
    "village=input(\"Enter village name:\")\n",
    "if contry=='india':\n",
    "    if state=='mp':\n",
    "        if district=='badwani':\n",
    "             if vikaskhand=='anjad':\n",
    "                    if village=='talun':\n",
    "                        print(\"you choose right option:\")\n",
    "                    else:\n",
    "                        print(\"village name incorrect\")\n",
    "else:\n",
    "    print(\"choose other contry name:\")\n",
    "    \n",
    "        "
   ]
  },
  {
   "cell_type": "code",
   "execution_count": null,
   "id": "270b3211",
   "metadata": {},
   "outputs": [],
   "source": []
  }
 ],
 "metadata": {
  "kernelspec": {
   "display_name": "Python 3 (ipykernel)",
   "language": "python",
   "name": "python3"
  },
  "language_info": {
   "codemirror_mode": {
    "name": "ipython",
    "version": 3
   },
   "file_extension": ".py",
   "mimetype": "text/x-python",
   "name": "python",
   "nbconvert_exporter": "python",
   "pygments_lexer": "ipython3",
   "version": "3.11.5"
  }
 },
 "nbformat": 4,
 "nbformat_minor": 5
}
